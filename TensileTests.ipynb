{
 "cells": [
  {
   "cell_type": "code",
   "execution_count": 65,
   "id": "2e331225-994c-4555-a676-7fd902b64c3a",
   "metadata": {},
   "outputs": [
    {
     "ename": "SyntaxError",
     "evalue": "invalid syntax (2001554092.py, line 4)",
     "output_type": "error",
     "traceback": [
      "\u001b[1;36m  Cell \u001b[1;32mIn[65], line 4\u001b[1;36m\u001b[0m\n\u001b[1;33m    pip install pandas\u001b[0m\n\u001b[1;37m        ^\u001b[0m\n\u001b[1;31mSyntaxError\u001b[0m\u001b[1;31m:\u001b[0m invalid syntax\n"
     ]
    }
   ],
   "source": [
    "#pip install numpy\n",
    "#pip install csv\n",
    "#pip install matplotlib\n",
    "pip install pandas"
   ]
  },
  {
   "cell_type": "code",
   "execution_count": 66,
   "id": "d1ed9978-3199-4011-8b12-68f5b90b4363",
   "metadata": {},
   "outputs": [],
   "source": [
    "import numpy as np\n",
    "import csv\n",
    "import matplotlib\n",
    "import pandas as pd"
   ]
  },
  {
   "cell_type": "code",
   "execution_count": 62,
   "id": "51041cca-3932-4dac-9746-b61dc0ed228e",
   "metadata": {},
   "outputs": [],
   "source": [
    "class TestSample:\n",
    "    def __init__(self, thickness1, thickness2, thickness3):\n",
    "        self.thickness1 = thickness1\n",
    "        self.thickness2 = thickness2\n",
    "        self.thickness3 = thickness3\n",
    "        self.mean_thickness = np.mean([self.thickness1, self.thickness2, self.thickness3])\n",
    "        self.gauge_length = 30 #mm\n",
    "        self.width = 10 #mm\n",
    "        self.length = 50 #mm\n",
    "    \n",
    "    def display_thicknesses(self):\n",
    "        print(\"Thickness 1:\", self.thickness1)\n",
    "        print(\"Thickness 2:\", self.thickness2)\n",
    "        print(\"Thickness 3:\", self.thickness3)\n",
    "\n",
    "AC_170um_1 = TestSample(0.150, 0.175, 0.193)\n",
    "AC_170um_2 = TestSample(0.185, 0.173, 0.154)\n",
    "AC_170um_3 = TestSample(0.154, 0.194, 0.221)\n",
    "\n",
    "\n",
    "\n",
    "\n",
    "\n",
    "    "
   ]
  },
  {
   "cell_type": "code",
   "execution_count": 64,
   "id": "7a966dd2",
   "metadata": {},
   "outputs": [
    {
     "ename": "IndexError",
     "evalue": "list index out of range",
     "output_type": "error",
     "traceback": [
      "\u001b[1;31m---------------------------------------------------------------------------\u001b[0m",
      "\u001b[1;31mIndexError\u001b[0m                                Traceback (most recent call last)",
      "Cell \u001b[1;32mIn[64], line 21\u001b[0m\n\u001b[0;32m     18\u001b[0m     \u001b[38;5;28;01mreturn\u001b[39;00m data_columns\n\u001b[0;32m     20\u001b[0m \u001b[38;5;66;03m# Example usage:\u001b[39;00m\n\u001b[1;32m---> 21\u001b[0m AC_170um_1_data \u001b[38;5;241m=\u001b[39m load_data_csv(\u001b[38;5;124m'\u001b[39m\u001b[38;5;124mTensile Tests/test1.txt\u001b[39m\u001b[38;5;124m'\u001b[39m)\n\u001b[0;32m     22\u001b[0m AC_170um_2_data \u001b[38;5;241m=\u001b[39m load_data_csv(\u001b[38;5;124m'\u001b[39m\u001b[38;5;124mTensile Tests/test2.txt\u001b[39m\u001b[38;5;124m'\u001b[39m)\n\u001b[0;32m     24\u001b[0m \u001b[38;5;66;03m#print(test1_data)\u001b[39;00m\n",
      "Cell \u001b[1;32mIn[64], line 17\u001b[0m, in \u001b[0;36mload_data_csv\u001b[1;34m(file_path, delimiter, start_line, columns)\u001b[0m\n\u001b[0;32m     15\u001b[0m                 \u001b[38;5;28mprint\u001b[39m(\u001b[38;5;124mf\u001b[39m\u001b[38;5;124m\"\u001b[39m\u001b[38;5;124mIndexError: row \u001b[39m\u001b[38;5;132;01m{\u001b[39;00mrow\u001b[38;5;132;01m}\u001b[39;00m\u001b[38;5;124m doesn\u001b[39m\u001b[38;5;124m'\u001b[39m\u001b[38;5;124mt have enough columns.\u001b[39m\u001b[38;5;124m\"\u001b[39m)\n\u001b[0;32m     16\u001b[0m         new_column_value \u001b[38;5;241m=\u001b[39m \u001b[38;5;241m-\u001b[39m\u001b[38;5;241m0.00980665\u001b[39m  \u001b[38;5;66;03m# Calculated value based on the provided formula\u001b[39;00m\n\u001b[1;32m---> 17\u001b[0m         data_columns[columns]\u001b[38;5;241m.\u001b[39mappend(new_column_value)\n\u001b[0;32m     18\u001b[0m \u001b[38;5;28;01mreturn\u001b[39;00m data_columns\n",
      "\u001b[1;31mIndexError\u001b[0m: list index out of range"
     ]
    }
   ],
   "source": [
    "# Open the .txt file\n",
    "def load_data_csv(file_path, delimiter='\\t', start_line=24, columns=3):\n",
    "    data_columns = [[] for _ in range(columns)]  # Initialize empty lists for each column\n",
    "    with open(file_path, 'r') as file:\n",
    "        reader = csv.reader(file, delimiter=delimiter)\n",
    "        for _ in range(start_line - 1):  # Skip lines until start_line\n",
    "            next(reader)\n",
    "        for row in reader:\n",
    "            if row[0] == '<divider>' or row[0] == '<END DATA>':\n",
    "                continue  # Skip special lines\n",
    "            for i in range(columns):\n",
    "                try:\n",
    "                    data_columns[i].append(row[i])\n",
    "                except IndexError:\n",
    "                    print(f\"IndexError: row {row} doesn't have enough columns.\")\n",
    "            new_column_value = -0.00980665  # Calculated value based on the provided formula\n",
    "            data_columns[columns].append(new_column_value)\n",
    "    return data_columns\n",
    "\n",
    "# Example usage:\n",
    "AC_170um_1_data = load_data_csv('Tensile Tests/test1.txt')\n",
    "AC_170um_2_data = load_data_csv('Tensile Tests/test2.txt')\n",
    "\n",
    "#print(test1_data)\n",
    "print(test1_data[3])\n",
    "\n"
   ]
  }
 ],
 "metadata": {
  "kernelspec": {
   "display_name": "Python 3 (ipykernel)",
   "language": "python",
   "name": "python3"
  },
  "language_info": {
   "codemirror_mode": {
    "name": "ipython",
    "version": 3
   },
   "file_extension": ".py",
   "mimetype": "text/x-python",
   "name": "python",
   "nbconvert_exporter": "python",
   "pygments_lexer": "ipython3",
   "version": "3.11.7"
  }
 },
 "nbformat": 4,
 "nbformat_minor": 5
}
